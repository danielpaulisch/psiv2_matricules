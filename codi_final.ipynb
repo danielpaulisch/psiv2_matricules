{
 "cells": [
  {
   "cell_type": "code",
   "execution_count": null,
   "metadata": {},
   "outputs": [],
   "source": [
    "import numpy as np\n",
    "import cv2 as cv\n",
    "from matplotlib import pyplot as plt\n",
    "import os\n",
    "from skimage.segmentation import clear_border\n",
    "import os\n",
    "from sklearn.model_selection import train_test_split\n",
    "\n",
    "path = os.getcwd()\n",
    "carpeta_dades=\"\\\\Imatges\"\n",
    "numero=0\n",
    "\n",
    "path+=carpeta_dades\n",
    "nom_imagenes = os.listdir(path)\n",
    "imagenes = []\n",
    "imagenes_b = []\n",
    "ll_img = []\n",
    "\n",
    "for titulo in nom_imagenes:\n",
    "    \n",
    "    if titulo.endswith('.jpg') or titulo.endswith('.jpeg'):\n",
    "        img =  cv.imread('Imatges/' + titulo)\n",
    "        ll_img.append(img)\n",
    "        img_gris = cv.cvtColor(img, cv.COLOR_BGR2GRAY)\n",
    "        b,g,r = cv.split(img)\n",
    "        imagenes_b.append(b*0.6>img_gris)\n",
    "        imagenes.append( img_gris)\n",
    "       \n",
    "Train=imagenes[:-6]\n",
    "Test= imagenes[-6:]\n",
    "\n",
    "plt.imshow(imagenes[numero], cmap=\"gray\")"
   ]
  },
  {
   "cell_type": "code",
   "execution_count": null,
   "metadata": {},
   "outputs": [],
   "source": [
    "imagenes_edge_removed = []\n",
    "\n",
    "for imagen in  imagenes:\n",
    "    \n",
    "    median = cv.medianBlur(imagen, 3)\n",
    "    ret, th = cv.threshold(median, 0, 255, cv.THRESH_BINARY+cv.THRESH_OTSU)\n",
    "    kernel = np.ones((5,5), np.uint8)\n",
    "    opening = cv.morphologyEx(th, cv.MORPH_OPEN, kernel)\n",
    "    edge_touching_removed = clear_border(opening)\n",
    "    contours, hierarchy = cv.findContours(edge_touching_removed, cv.RETR_TREE, cv.CHAIN_APPROX_SIMPLE)\n",
    "    imagenes_edge_removed.append(edge_touching_removed)\n",
    "\n",
    "\n",
    "plt.imshow(imagenes_edge_removed[numero], cmap=\"gray\")"
   ]
  },
  {
   "cell_type": "code",
   "execution_count": 4,
   "metadata": {},
   "outputs": [],
   "source": [
    "#quitar linias finas elemento que cauan problemas\n",
    "imagen_opening = []\n",
    "\n",
    "for imagen in  imagenes_edge_removed:\n",
    "\n",
    "    median = cv.medianBlur(imagen, 3)\n",
    "    ret, th = cv.threshold(median, 0, 255, cv.THRESH_BINARY+cv.THRESH_OTSU)\n",
    "    kernel = np.ones((3,3), np.uint8)\n",
    "    img_erosion = cv.erode(th, kernel, iterations=4)\n",
    "    opening = cv.morphologyEx(th, cv.MORPH_ERODE,  np.ones((1,30), np.uint8))\n",
    "    imagen_opening.append(opening)\n",
    "\n",
    "\n",
    "plt.imshow(imagen_opening[numero], cmap=\"gray\")"
   ]
  },
  {
   "cell_type": "code",
   "execution_count": null,
   "metadata": {},
   "outputs": [],
   "source": [
    "imagenes_cnt = []\n",
    "\n",
    "for imagen in imagen_opening:\n",
    "    \n",
    "    img_erosion = cv.erode(imagen, kernel, iterations=7)\n",
    "    img_dilation = cv.dilate(img_erosion, kernel, iterations=7)\n",
    "    img_dilation = cv.dilate(img_dilation, np.ones((2,9), np.uint8), iterations=15)\n",
    "    img_dilation = cv.dilate(img_dilation, kernel, iterations=5)\n",
    "\n",
    "    contour,hier = cv.findContours(img_dilation,cv.RETR_CCOMP,cv.CHAIN_APPROX_SIMPLE)\n",
    "\n",
    "    for cnt in contour:\n",
    "        cv.drawContours(img_dilation,[cnt],0,255,-1)\n",
    "\n",
    "    gray = cv.bitwise_not(img_dilation)\n",
    "\n",
    "    kernel = cv.getStructuringElement(cv.MORPH_ELLIPSE,(3,3))\n",
    "    res = cv.morphologyEx(gray,cv.MORPH_OPEN,kernel)\n",
    "    res = cv.bitwise_not(res)\n",
    "    \n",
    "    imagenes_cnt.append(res)\n",
    "\n",
    "plt.imshow(imagenes_cnt[numero], cmap=\"gray\")"
   ]
  },
  {
   "cell_type": "code",
   "execution_count": null,
   "metadata": {},
   "outputs": [],
   "source": [
    "imagenes_combinadas=[]\n",
    "\n",
    "for image_c,image_b in zip(imagenes_cnt,imagenes_b):\n",
    "    comb=image_c*image_b\n",
    "\n",
    "    comb = cv.erode(comb, kernel, iterations=5)\n",
    "    comb = cv.dilate(comb, kernel, iterations=5)\n",
    "    comb = cv.erode(comb, kernel, iterations=5)\n",
    "    comb = cv.dilate(comb, kernel, iterations=5)\n",
    "\n",
    "    imagenes_combinadas.append(comb)\n",
    "\n",
    "plt.imshow(imagenes_combinadas[numero], cmap=\"gray\")"
   ]
  },
  {
   "cell_type": "code",
   "execution_count": null,
   "metadata": {},
   "outputs": [],
   "source": [
    "ll_cnts = []\n",
    "ll_contornos = []\n",
    "\n",
    "for imagen in imagenes_cnt:\n",
    "\n",
    "    cnts,_=cv.findContours(cv.Canny(imagen,100,200),cv.RETR_LIST,cv.CHAIN_APPROX_SIMPLE)\n",
    "    contornos =  cv.drawContours((imagen//255),cnts,-1,(100,100,100),2)\n",
    "    ll_cnts.append(cnts)\n",
    "    ll_contornos.append(contornos)\n",
    "    \n",
    "plt.imshow(ll_contornos[numero], cmap=\"gray\")"
   ]
  },
  {
   "cell_type": "code",
   "execution_count": null,
   "metadata": {},
   "outputs": [],
   "source": [
    "matricula_controno = []\n",
    "\n",
    "\n",
    "for imagen,b in zip(ll_cnts,imagenes_combinadas):\n",
    "    \n",
    "    contornos_millor=imagen[0]\n",
    "    area_max=0\n",
    "    no_entrat=True\n",
    "    for c in imagen:\n",
    "        area = cv.contourArea(c)\n",
    "        coord = cv.boundingRect(c)\n",
    "        imagen_recortada = b[coord[1]:coord[1]+coord[3],coord[0]:coord[0]+coord[2]]\n",
    "        \n",
    "        if np.sum(imagen_recortada)>0 and area>area_max:#len(approx)==4 and area>4000:\n",
    "            area_max=area\n",
    "            contornos_millor=c\n",
    "            no_entrat=False\n",
    "    \n",
    "    if no_entrat:     \n",
    "        area_max=0\n",
    "        for c in imagen:\n",
    "            area = cv.contourArea(c)\n",
    "            coord = cv.boundingRect(c)\n",
    "            imagen_recortada = b[coord[1]:coord[1]+coord[3],coord[0]:coord[0]+coord[2]]\n",
    "            \n",
    "            if area>area_max:#len(approx)==4 and area>4000:\n",
    "                area_max=area\n",
    "                contornos_millor=c\n",
    "            \n",
    "    \n",
    "    \n",
    "    matricula_controno.append(contornos_millor)"
   ]
  },
  {
   "cell_type": "code",
   "execution_count": null,
   "metadata": {},
   "outputs": [],
   "source": [
    "ll_matricula  = []\n",
    "ll_coord = []\n",
    "for i, imagen in enumerate(matricula_controno):\n",
    "\n",
    "    epsilon = 0.02*cv.arcLength(imagen,True)\n",
    "    approx = cv.approxPolyDP(imagen,epsilon,True)\n",
    "    #print(len(approx))\n",
    "    x,y,w,h = cv.boundingRect(approx)\n",
    "    ll_coord.append((x,y,w,h))    \n",
    "    img = ll_img[i]\n",
    "    rec = cv.rectangle(img//255,(x,y),(x+w,y+h),(255,255,255),2)\n",
    "    ll_matricula.append(rec)\n",
    "    \n",
    "\n",
    "plt.imshow(ll_matricula[numero], cmap=\"gray\")"
   ]
  },
  {
   "cell_type": "code",
   "execution_count": null,
   "metadata": {},
   "outputs": [],
   "source": [
    "ll_recortadas = []\n",
    "\n",
    "for  imagen, coord in zip(imagenes, ll_coord):\n",
    "    \n",
    "    imagen_recortada = imagen[coord[1]:coord[1]+coord[3],coord[0]:coord[0]+coord[2]]\n",
    "    ll_recortadas.append(imagen_recortada)\n",
    "\n",
    "plt.imshow(ll_recortadas[numero],cmap=\"gray\")"
   ]
  },
  {
   "cell_type": "code",
   "execution_count": null,
   "metadata": {},
   "outputs": [],
   "source": [
    "def comprovador(texte):\n",
    "    if len(texte)==7:\n",
    "        if texte[0] in (\"1234567890\"):\n",
    "            if texte[1] in (\"1234567890\"):\n",
    "                if texte[2] in (\"1234567890\"):\n",
    "                    if texte[3] in (\"1234567890\"):\n",
    "                        if texte[4] in (\"WRTYPSDFGHJKLZXCVBNM\"):\n",
    "                            if texte[5] in (\"WRTYPSDFGHJKLZXCVBNM\"):\n",
    "                                if texte[6] in (\"WRTYPSDFGHJKLZXCVBNM\"):\n",
    "                                    return True\n",
    "    return False\n",
    "    #comprova que esta be"
   ]
  },
  {
   "cell_type": "code",
   "execution_count": 75,
   "metadata": {},
   "outputs": [],
   "source": [
    "def netejar_lectura(ll_text):\n",
    "    \n",
    "    ll_resultat = []\n",
    "\n",
    "    for text in ll_text:\n",
    "        #separa per \\n ?\n",
    "         #identificar el punt mig entre nombres i lletres\n",
    "         # tirar cap a la esquerra i dreta\n",
    "         # comprovar\n",
    "        matricula_bona=False\n",
    "        matricula = \"\"\n",
    "        uncleared_ll = list(text.lower())\n",
    "        ll=[]\n",
    "        for l in uncleared_ll:\n",
    "            if l in (\"1234567890wrtypsdfghjklzxcvbnm\"):\n",
    "                ll.append(l)\n",
    "        \n",
    "        mitjos=[]\n",
    "        for (x,letra) in enumerate(ll[:-1]):\n",
    "            if letra in (\"1234567890\")and x<len(ll):\n",
    "                if ll[x+1] in (\"wrtypsdfghjklzxcvbnm\"):\n",
    "                    mitjos.append(x)\n",
    "\n",
    "        for punt in mitjos:\n",
    "            try:\n",
    "                if ll[punt-1] in (\"1234567890\"):\n",
    "                    if ll[punt-2] in (\"1234567890\"):\n",
    "                        if ll[punt-3] in (\"1234567890\"):\n",
    "                            if ll[punt+2] in (\"wrtypsdfghjklzxcvbnm\"):\n",
    "                                if ll[punt+3] in (\"wrtypsdfghjklzxcvbnm\"):\n",
    "                                    matricula_bona=True\n",
    "                                    matricula=ll[punt-3:punt+4]\n",
    "                                    matricula=''.join(matricula).upper()\n",
    "            except IndexError:\n",
    "                pass\n",
    "                #pass\n",
    "\n",
    "        if not matricula_bona:\n",
    "            count = 0\n",
    "            ll = list(text.lower())\n",
    "            matricula = \"\"\n",
    "\n",
    "            for letra in ll:\n",
    "                if count < 4:\n",
    "                    if letra in (\"1234567890\"):\n",
    "                        count += 1\n",
    "                        matricula += letra\n",
    "                    else:\n",
    "                        count = 0\n",
    "                elif count < 7:\n",
    "                    if letra in (\"wrtypsdfghjklzxcvbnm\"):\n",
    "                        count += 1\n",
    "                        matricula += letra.upper()\n",
    "              \n",
    "\n",
    "\n",
    "        ll_resultat.append(matricula)\n",
    "    return ll_resultat"
   ]
  },
  {
   "cell_type": "code",
   "execution_count": 6,
   "metadata": {},
   "outputs": [],
   "source": [
    "def girar(imagen_recortada):\n",
    "\n",
    "    gray = cv.bitwise_not(imagen_recortada)\n",
    "    thresh = cv.threshold(gray, 0, 255,\tcv.THRESH_BINARY | cv.THRESH_OTSU)[1]\n",
    "    thresh = 255 - thresh\n",
    "    \n",
    "\n",
    "    cnts,_=cv.findContours(cv.Canny(thresh,100,200),cv.RETR_LIST,cv.CHAIN_APPROX_SIMPLE)\n",
    "    contornos_millor=cnts[0]\n",
    "    area_max=0\n",
    "    for c in cnts:\n",
    "        area = cv.contourArea(c)\n",
    "        if area>area_max:#len(approx)==4 and area>4000:\n",
    "            area_max=area\n",
    "            contornos_millor=c\n",
    "            \n",
    "    angle  = cv.minAreaRect(contornos_millor)[-1]\n",
    "\n",
    "    if angle < -45:\n",
    "        angle =  (90 + angle)\n",
    "        \n",
    "    \n",
    "    else:\n",
    "        angle = -( 90 - angle)\n",
    "        \n",
    "\n",
    "    (h, w) = imagen_recortada.shape[:2]\n",
    "    center = (w // 2, h // 2)\n",
    "    M = cv.getRotationMatrix2D(center, -angle, 1.0)\n",
    "    rotated = cv.warpAffine(imagen_recortada, M, (w, h), flags=cv.INTER_CUBIC, borderMode=cv.BORDER_REPLICATE)\n",
    "    return rotated"
   ]
  },
  {
   "cell_type": "code",
   "execution_count": null,
   "metadata": {},
   "outputs": [],
   "source": [
    "import pytesseract\n",
    "#pytesseract.pytesseract.tesseract_cmd = r'C:\\Program Files\\Tesseract-OCR\\tesseract'\n",
    "pytesseract.pytesseract.tesseract_cmd = 'C:/Program Files/Tesseract-OCR/tesseract'"
   ]
  },
  {
   "cell_type": "code",
   "execution_count": null,
   "metadata": {},
   "outputs": [],
   "source": [
    "ll_text = []\n",
    "\n",
    "for img in ll_recortadas:\n",
    "    text = pytesseract.image_to_string(img,config='--psm 11')\n",
    "    ll_text.append(text)\n",
    "ll_text[numero]"
   ]
  },
  {
   "cell_type": "code",
   "execution_count": null,
   "metadata": {},
   "outputs": [],
   "source": [
    "ll_resultat = netejar_lectura(ll_text)\n",
    "a_girar=[]\n",
    "index=0\n",
    "for resultat,imatge in zip(ll_resultat,ll_recortadas):\n",
    "    if not comprovador(resultat):\n",
    "        girada=girar(imatge)#girar imatge\n",
    "        text = pytesseract.image_to_string(girada,config='--psm 11')#llegir\n",
    "        text_netejat=netejar_lectura([text])[0]#netejar\n",
    "        if comprovador(text_netejat):#compara\n",
    "            ll_resultat[index]=text_netejat#substituiir si millor\n",
    "        elif len(text_netejat)>len(resultat):#compara\n",
    "            ll_resultat[index]=text_netejat#substituiir si millor\n",
    "        else:\n",
    "            pass   \n",
    "    index+=1"
   ]
  },
  {
   "cell_type": "code",
   "execution_count": 76,
   "metadata": {},
   "outputs": [
    {
     "name": "stdout",
     "output_type": "stream",
     "text": [
      "['155', '182', '3044JMB', '8929LKK', '3660CRT', '2344KJP', '0907JR', '0012HLY', '6771MV', '', '1087MDR', '4236KMV', '652', '8021JW', '6603DZM', '3467FPD', '8798GYS', '4840KHP', '1062FNT', '1943GFW', '2780KTT', '2968FZC', '2254HZL', '3678GXN', '', '4146HXM', '', '3044JMR', '']\n"
     ]
    }
   ],
   "source": [
    "print(ll_resultat)"
   ]
  },
  {
   "cell_type": "code",
   "execution_count": 77,
   "metadata": {},
   "outputs": [],
   "source": [
    "\n",
    "dic_y = {'10':'1556GMZ', '11':'0182GLK', '12':'3044JMB', \n",
    "              '13':'6929LKK','14':'3660CRT', '15':'2344KJP', '16':'0907JRF',\n",
    "              '20':'0012HLY', '21':'7713MFV', '22':'8234MHS', '23':'1087MDR','25':'4236KMV', \n",
    "              '26':'5652JTM', '27':'0214JWP', '28':'6603DZM','30':'3467FPD', '32':'8798GYS', \n",
    "              '33':'4840KHP', '34':'1062FNT', '35':'1943GFW','37':'2780KTT', '38':'2968FZC', \n",
    "              '39':'2254HZL', '40':'3678GXN', '42':'5317JVM', '43':'4146HXM',\n",
    "              '45':'0424JLP', '46':'3044JMB', '47':'9575LCM',}"
   ]
  },
  {
   "cell_type": "code",
   "execution_count": 78,
   "metadata": {},
   "outputs": [],
   "source": [
    "path = os.getcwd()+carpeta_dades\n",
    "nom_imagenes = os.listdir(path)\n",
    "ll_y = []\n",
    "ll_titulos = []\n",
    "\n",
    "for titulo in nom_imagenes:\n",
    "    \n",
    "    if titulo.endswith('.jpg') or titulo.endswith('.jpeg'):\n",
    "        ll_titulos.append(titulo)\n",
    "        img =  cv.imread('Imatges/' + titulo)\n",
    "        ll_y.append(img)"
   ]
  },
  {
   "cell_type": "code",
   "execution_count": 80,
   "metadata": {},
   "outputs": [
    {
     "name": "stdout",
     "output_type": "stream",
     "text": [
      "[0, 3, 0, 1, 0, 0, 0, 7, 5, 0, 6, 6, 3, 5, 6, 7, 7, 6, 7, 6, 4, 5, 7, 7, 0, 6, 0, 7, 0]\n"
     ]
    }
   ],
   "source": [
    "key = list(dic_y.keys())\n",
    "key.sort()\n",
    "ll_errores = []\n",
    "\n",
    "for k, result in zip(key, ll_resultat):\n",
    "    \n",
    "    errores = 0\n",
    "    for lletra_res, lletra_real in zip(result, dic_y[k]):\n",
    "        if lletra_res != lletra_real:\n",
    "            errores += 1\n",
    "    ll_errores.append(errores)\n",
    "\n",
    "print(ll_errores)"
   ]
  },
  {
   "cell_type": "code",
   "execution_count": 56,
   "metadata": {},
   "outputs": [],
   "source": [
    "key = list(dic_y.keys())\n",
    "key.sort()\n",
    "ll_errores = []\n",
    "\n",
    "for k, result in zip(key, ll_resultat):\n",
    "    print(result, dic_y[k])\n",
    "print(len(ll_resultat))"
   ]
  }
 ],
 "metadata": {
  "kernelspec": {
   "display_name": "Python 3",
   "language": "python",
   "name": "python3"
  },
  "language_info": {
   "codemirror_mode": {
    "name": "ipython",
    "version": 3
   },
   "file_extension": ".py",
   "mimetype": "text/x-python",
   "name": "python",
   "nbconvert_exporter": "python",
   "pygments_lexer": "ipython3",
   "version": "3.7.8"
  }
 },
 "nbformat": 4,
 "nbformat_minor": 2
}
