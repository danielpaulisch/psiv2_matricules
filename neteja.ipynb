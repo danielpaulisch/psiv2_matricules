{
 "cells": [
  {
   "cell_type": "code",
   "execution_count": null,
   "metadata": {},
   "outputs": [],
   "source": []
  },
  {
   "cell_type": "code",
   "execution_count": 4,
   "metadata": {},
   "outputs": [],
   "source": [
    "ll_text=['—\\n\\nie\\n\\nt a\\n\\n——\\n\\n==\\n\\n—=\\n\\n—\\n\\n=e\\n\\nene\\n\\nOry\\n\\na\\n\\n+)\\n\\nean\\n\\nta\\n\\nZ\\n\\n155\\n\\nAig\\n\\n@\\n\\n—\\n\\n—\\n',\n",
    " 'bins\\n\\noe\\n\\naU182 G\\n\\nLK\\n',\n",
    " '£3044 JMB\\n',\n",
    " 'a\\n\\n—\\n\\n8929 LKK\\n\\n—\\n',\n",
    " '23660 CRT\\n',\n",
    " '2344 KJP\\n',\n",
    " '0907 JRE\\n',\n",
    " '_\\n\\n0012 HLY\\n\\ny\\n',\n",
    " '67713 MEV\\n',\n",
    " 'ZAG\\n\\naS\\n\\nY<\\n\\n—\\n',\n",
    " '1087 MDR\\n',\n",
    " '84236 KMV\\n',\n",
    " 'AS652 JTMB\\n',\n",
    " ')\\n\\n80214 Jwe\\n',\n",
    " 'G\\n\\nee\\n\\nB6603 DZM\\n\\n) f\\n\\nTanne\\n\\ncere\\n',\n",
    " '13467 FPDE\\n',\n",
    " '88798 GYSE\\n',\n",
    " '24840 KHP\\n',\n",
    " 'W1062 FNTE\\n',\n",
    " '€@1943 GFW\\n',\n",
    " '82780 KTT\\n',\n",
    " 'Zz)\\n\\neu, eg ———  f\\n\\nal\\n\\nPa iy)\\n\\n(pill SS\\n\\nAS\\n\\nWay\\n\\nWe\\n\\n:\\n\\n4a /\\n\\na»\\n\\n29\\n\\n68 FZC\\n',\n",
    " '2254 HZL &\\n',\n",
    " '83678 GXN#\\n',\n",
    " '',\n",
    " '84146 HXME\\n',\n",
    " '',\n",
    " '—\\n\\n1304\\n\\n4 JMR\\n',\n",
    " '']"
   ]
  },
  {
   "cell_type": "code",
   "execution_count": 75,
   "metadata": {},
   "outputs": [],
   "source": [
    "def netejar_lectura(ll_text):\n",
    "    \n",
    "    ll_resultat = []\n",
    "\n",
    "    for text in ll_text:\n",
    "        #separa per \\n ?\n",
    "         #identificar el punt mig entre nombres i lletres\n",
    "         # tirar cap a la esquerra i dreta\n",
    "         # comprovar\n",
    "        matricula_bona=False\n",
    "        matricula = \"\"\n",
    "        uncleared_ll = list(text.lower())\n",
    "        ll=[]\n",
    "        for l in uncleared_ll:\n",
    "            if l in (\"1234567890wrtypsdfghjklzxcvbnm\"):\n",
    "                ll.append(l)\n",
    "        \n",
    "        mitjos=[]\n",
    "        for (x,letra) in enumerate(ll[:-1]):\n",
    "            if letra in (\"1234567890\")and x<len(ll):\n",
    "                if ll[x+1] in (\"wrtypsdfghjklzxcvbnm\"):\n",
    "                    mitjos.append(x)\n",
    "\n",
    "        for punt in mitjos:\n",
    "            try:\n",
    "                if ll[punt-1] in (\"1234567890\"):\n",
    "                    if ll[punt-2] in (\"1234567890\"):\n",
    "                        if ll[punt-3] in (\"1234567890\"):\n",
    "                            if ll[punt+2] in (\"wrtypsdfghjklzxcvbnm\"):\n",
    "                                if ll[punt+3] in (\"wrtypsdfghjklzxcvbnm\"):\n",
    "                                    matricula_bona=True\n",
    "                                    matricula=ll[punt-3:punt+4]\n",
    "                                    matricula=''.join(matricula).upper()\n",
    "            except IndexError:\n",
    "                pass\n",
    "                #pass\n",
    "\n",
    "        if not matricula_bona:\n",
    "            count = 0\n",
    "            ll = list(text.lower())\n",
    "            matricula = \"\"\n",
    "\n",
    "            for letra in ll:\n",
    "                if count < 4:\n",
    "                    if letra in (\"1234567890\"):\n",
    "                        count += 1\n",
    "                        matricula += letra\n",
    "                    else:\n",
    "                        count = 0\n",
    "                elif count < 7:\n",
    "                    if letra in (\"wrtypsdfghjklzxcvbnm\"):\n",
    "                        count += 1\n",
    "                        matricula += letra.upper()\n",
    "              \n",
    "\n",
    "\n",
    "        ll_resultat.append(matricula)\n",
    "    return ll_resultat"
   ]
  },
  {
   "cell_type": "code",
   "execution_count": 6,
   "metadata": {},
   "outputs": [],
   "source": [
    "def comprovador(texte):\n",
    "    if len(texte)==7:\n",
    "        if texte[0] in (\"1234567890\"):\n",
    "            if texte[1] in (\"1234567890\"):\n",
    "                if texte[2] in (\"1234567890\"):\n",
    "                    if texte[3] in (\"1234567890\"):\n",
    "                        if texte[4] in (\"WRTYPSDFGHJKLZXCVBNM\"):\n",
    "                            if texte[5] in (\"WRTYPSDFGHJKLZXCVBNM\"):\n",
    "                                if texte[6] in (\"WRTYPSDFGHJKLZXCVBNM\"):\n",
    "                                    return True\n",
    "    return False"
   ]
  },
  {
   "cell_type": "code",
   "execution_count": 76,
   "metadata": {},
   "outputs": [
    {
     "name": "stdout",
     "output_type": "stream",
     "text": [
      "['155', '182', '3044JMB', '8929LKK', '3660CRT', '2344KJP', '0907JR', '0012HLY', '6771MV', '', '1087MDR', '4236KMV', '652', '8021JW', '6603DZM', '3467FPD', '8798GYS', '4840KHP', '1062FNT', '1943GFW', '2780KTT', '2968FZC', '2254HZL', '3678GXN', '', '4146HXM', '', '3044JMR', '']\n"
     ]
    }
   ],
   "source": [
    "resultat_1=netejar_lectura(ll_text)\n",
    "print(resultat_1)\n"
   ]
  },
  {
   "cell_type": "code",
   "execution_count": 77,
   "metadata": {},
   "outputs": [],
   "source": [
    "\n",
    "target=['1556GMZ', '0182GLK', '3044JMB', '6929LKK', '3660CRT', '2344KJP', '0907JRF', \n",
    "        '6401JBX', '4674FHC', '8425MFR', '0012HLY', '7713MFV', '8234MHS', '1087MDR', \n",
    "        '3641JGY', '4236KMV', '5652JTM', '0214JWP', '6603DZM', '9058GMF', '2736LFT', \n",
    "        '3467FPD', '8798GYS', '4840KHP', '1062FNT', '1943GFW', '2376CHN', '2780KTT', \n",
    "        '2968FZC', '2254HZL', '5534HWK', '3678GXN', '3396GDF', '5317JVM', '4146HXM', \n",
    "        '2304LSC', '0424JLP', '3044JMB', '9575LCM', '2354HKR']"
   ]
  },
  {
   "cell_type": "code",
   "execution_count": 78,
   "metadata": {},
   "outputs": [],
   "source": [
    "ll_errores = []\n",
    "\n",
    "for y, x in zip(target, resultat_1):\n",
    "    \n",
    "    errores = 0\n",
    "    for lletra_res, lletra_real in zip(x, y):\n",
    "        if lletra_res != lletra_real:\n",
    "            errores += 1\n",
    "    ll_errores.append(errores)"
   ]
  },
  {
   "cell_type": "code",
   "execution_count": 80,
   "metadata": {},
   "outputs": [
    {
     "name": "stdout",
     "output_type": "stream",
     "text": [
      "[0, 3, 0, 1, 0, 0, 0, 7, 5, 0, 6, 6, 3, 5, 6, 7, 7, 6, 7, 6, 4, 5, 7, 7, 0, 6, 0, 7, 0]\n"
     ]
    }
   ],
   "source": [
    "print(ll_errores)"
   ]
  },
  {
   "cell_type": "code",
   "execution_count": 56,
   "metadata": {},
   "outputs": [],
   "source": [
    "numero=4"
   ]
  },
  {
   "cell_type": "code",
   "execution_count": 57,
   "metadata": {},
   "outputs": [],
   "source": [
    "text=ll_text[numero]\n",
    "uncleared_ll = list(text.lower())\n",
    "ll=[]\n",
    "for l in uncleared_ll:\n",
    "    if l in (\"1234567890wrtypsdfghjklzxcvbnm\"):\n",
    "        ll.append(l)"
   ]
  },
  {
   "cell_type": "code",
   "execution_count": 58,
   "metadata": {},
   "outputs": [
    {
     "data": {
      "text/plain": [
       "['2', '3', '6', '6', '0', 'c', 'r', 't']"
      ]
     },
     "execution_count": 58,
     "metadata": {},
     "output_type": "execute_result"
    }
   ],
   "source": [
    "ll"
   ]
  },
  {
   "cell_type": "code",
   "execution_count": 59,
   "metadata": {},
   "outputs": [],
   "source": [
    "mitjos=[]\n",
    "for (x,letra) in enumerate(ll[:-1]):\n",
    "    if letra in (\"1234567890\")and x<len(ll):\n",
    "        if ll[x+1] in (\"wrtypsdfghjklzxcvbnm\"):\n",
    "            mitjos.append(x)\n",
    "\n",
    "for punt in mitjos:\n",
    "    try:\n",
    "        if ll[punt-1] in (\"1234567890\"):\n",
    "            if ll[punt-2] in (\"1234567890\"):\n",
    "                if ll[punt-3] in (\"1234567890\"):\n",
    "                    if ll[punt+2] in (\"wrtypsdfghjklzxcvbnm\"):\n",
    "                        if ll[punt+3] in (\"wrtypsdfghjklzxcvbnm\"):\n",
    "                            matricula_bona=True\n",
    "                            matricula=ll[punt-3:punt+4]\n",
    "                            matricula=''.join(matricula).upper()\n",
    "    except IndexError:\n",
    "        pass\n",
    "        #pass"
   ]
  },
  {
   "cell_type": "code",
   "execution_count": 60,
   "metadata": {},
   "outputs": [
    {
     "data": {
      "text/plain": [
       "'3660CRT'"
      ]
     },
     "execution_count": 60,
     "metadata": {},
     "output_type": "execute_result"
    }
   ],
   "source": [
    "matricula"
   ]
  },
  {
   "cell_type": "code",
   "execution_count": 36,
   "metadata": {},
   "outputs": [],
   "source": [
    "\n",
    "count = 0\n",
    "matricula = \"\"\n",
    "\n",
    "for letra in ll:\n",
    "    if count < 4:\n",
    "        if letra in (\"1234567890\"):\n",
    "            count += 1\n",
    "            matricula += letra\n",
    "        else:\n",
    "            count = 0\n",
    "    elif count < 7:\n",
    "        if letra in (\"wrtypsdfghjklzxcvbnm\"):\n",
    "            count += 1\n",
    "            matricula += letra.upper()"
   ]
  },
  {
   "cell_type": "code",
   "execution_count": 45,
   "metadata": {},
   "outputs": [
    {
     "data": {
      "text/plain": [
       "'182'"
      ]
     },
     "execution_count": 45,
     "metadata": {},
     "output_type": "execute_result"
    }
   ],
   "source": [
    "matricula"
   ]
  }
 ],
 "metadata": {
  "kernelspec": {
   "display_name": "Python 3",
   "language": "python",
   "name": "python3"
  },
  "language_info": {
   "codemirror_mode": {
    "name": "ipython",
    "version": 3
   },
   "file_extension": ".py",
   "mimetype": "text/x-python",
   "name": "python",
   "nbconvert_exporter": "python",
   "pygments_lexer": "ipython3",
   "version": "3.7.8"
  }
 },
 "nbformat": 4,
 "nbformat_minor": 2
}
