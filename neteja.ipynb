{
 "cells": [
  {
   "cell_type": "code",
   "execution_count": null,
   "metadata": {},
   "outputs": [],
   "source": [
    "'Zz)\\n\\neu, eg ———  f\\n\\nal\\n\\nPa iy)\\n\\n(pill SS\\n\\nAS\\n\\nWay\\n\\nWe\\n\\n:\\n\\n4a /\\n\\na»\\n\\n29\\n\\n68 FZC\\n' 2968 FZC\n",
    "'83678 GXN#\\n'3678 GXN\n",
    "'N\\n\\nB35 0 kn Dl\\n' 2354 HKR"
   ]
  }
 ],
 "metadata": {
  "language_info": {
   "name": "python"
  }
 },
 "nbformat": 4,
 "nbformat_minor": 2
}
